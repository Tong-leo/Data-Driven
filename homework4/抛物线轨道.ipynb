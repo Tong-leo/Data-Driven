{
 "cells": [
  {
   "cell_type": "code",
   "execution_count": 17,
   "id": "87859545",
   "metadata": {},
   "outputs": [],
   "source": [
    "import math\n",
    "\n",
    "def caltime(h, w, v0, mu=0.0):\n",
    "    \"\"\" 计算单个斜坡段的时间和末速度（支持摩擦） \"\"\"\n",
    "    if w == 0:\n",
    "        return v0, 0.0\n",
    "    g = 9.8\n",
    "    a_gravity = g * h/math.sqrt(h**2 + w**2)         # 重力加速度分量\n",
    "    a_friction = mu * g * w/math.sqrt(h**2 + w**2)    # 摩擦力加速度分量\n",
    "    a_net = a_gravity - a_friction\n",
    "    if (v0 == 0) & (a_net <= 0):\n",
    "        return v0, 0.0  # 无法滑动\n",
    "    \n",
    "    s = math.sqrt(h**2 + w**2)              # 斜坡长度\n",
    "    t = (-v0 + math.sqrt(v0**2 + 2*a_net*s)) / a_net  # 运动学公式\n",
    "    v1 = v0 + a_net * t\n",
    "    return v1, t\n",
    "\n",
    "def parabola_slide(h, w, mu=0.0, segments=4000):\n",
    "    \"\"\" 抛物线轨道总时间和末速度 \"\"\"\n",
    "    total_time = 0.0\n",
    "    v_current = 0.0  # 初始速度为0\n",
    "    delta_x = w / segments\n",
    "    \n",
    "    for i in range(segments):\n",
    "        x = i * delta_x\n",
    "        # 抛物线方程：y = (h/w²)*(x-w)²\n",
    "        y_start = (h/(w**2)) * (x-w)**2 \n",
    "        y_end = (h/(w**2)) * (x + delta_x-w)**2\n",
    "        \n",
    "        h_segment = y_start - y_end  # 段高度差（始终为正）\n",
    "        w_segment = delta_x          # 段水平宽度\n",
    "        # 计算当前段\n",
    "        v_next, t_segment = caltime(h_segment, w_segment, v_current, mu)\n",
    "        total_time += t_segment\n",
    "        v_current = v_next\n",
    "        \n",
    "        if v_next < 0:\n",
    "            print(\"中途停止\")\n",
    "            v_current = 0\n",
    "            break\n",
    "        \n",
    "        if (i == 0) & (v_next == 0):\n",
    "            print(\"无法滑动\")\n",
    "            break\n",
    "            \n",
    "        # 提前终止检查\n",
    "        if t_segment <= 0:\n",
    "            break\n",
    "    \n",
    "    return v_current, total_time"
   ]
  },
  {
   "cell_type": "code",
   "execution_count": 35,
   "id": "11565951",
   "metadata": {},
   "outputs": [
    {
     "name": "stdout",
     "output_type": "stream",
     "text": [
      "无摩擦: 速度=140.00 m/s, 时间=17.45 s\n",
      "\n",
      "有摩擦: 速度=137.17 m/s, 时间=17.67 s\n",
      "\n",
      "有摩擦: 速度=134.28 m/s, 时间=17.89 s\n",
      "\n",
      "有摩擦: 速度=128.31 m/s, 时间=18.36 s\n",
      "\n"
     ]
    }
   ],
   "source": [
    "\n",
    "# 验证输出\n",
    "v1, t1 = parabola_slide(1000, 800, mu=0,segments=10000)    # 无摩擦\n",
    "print(f\"无摩擦: 速度={v1:.2f} m/s, 时间={t1:.2f} s\\n\")\n",
    "v2, t2 = parabola_slide(1000, 800, mu=0.05,segments=10000)  # 有摩擦\n",
    "print(f\"有摩擦: 速度={v2:.2f} m/s, 时间={t2:.2f} s\\n\")\n",
    "v3, t3 = parabola_slide(1000, 800, mu=0.1,segments=10000)  # 有摩擦\n",
    "print(f\"有摩擦: 速度={v3:.2f} m/s, 时间={t3:.2f} s\\n\")\n",
    "v4, t4 = parabola_slide(1000, 800, mu=0.2,segments=10000)  # 有摩擦\n",
    "print(f\"有摩擦: 速度={v4:.2f} m/s, 时间={t4:.2f} s\\n\")"
   ]
  },
  {
   "cell_type": "code",
   "execution_count": null,
   "id": "7d46de37",
   "metadata": {},
   "outputs": [],
   "source": []
  }
 ],
 "metadata": {
  "kernelspec": {
   "display_name": "Python 3 (ipykernel)",
   "language": "python",
   "name": "python3"
  },
  "language_info": {
   "codemirror_mode": {
    "name": "ipython",
    "version": 3
   },
   "file_extension": ".py",
   "mimetype": "text/x-python",
   "name": "python",
   "nbconvert_exporter": "python",
   "pygments_lexer": "ipython3",
   "version": "3.7.12"
  }
 },
 "nbformat": 4,
 "nbformat_minor": 5
}
